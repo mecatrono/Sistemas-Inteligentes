{
 "cells": [
  {
   "cell_type": "code",
   "execution_count": 2,
   "metadata": {},
   "outputs": [
    {
     "name": "stdout",
     "output_type": "stream",
     "text": [
      "¡Proceso completado!\n"
     ]
    }
   ],
   "source": [
    "import os\n",
    "import random\n",
    "import shutil\n",
    "\n",
    "# Directorio que contiene tus imágenes\n",
    "source_directory = 'DATASET_COMPLETO/Transformer'\n",
    "\n",
    "# Directorios de destino para el 80% y 20% de las imágenes\n",
    "train_directory = 'DATASET\\TRAIN\\Transformadores'\n",
    "test_directory = 'DATASET\\TEST\\Transformadores'\n",
    "\n",
    "# Crear las carpetas de entrenamiento y prueba si no existen\n",
    "os.makedirs(train_directory, exist_ok=True)\n",
    "os.makedirs(test_directory, exist_ok=True)\n",
    "\n",
    "# Obtener la lista de archivos en el directorio fuente\n",
    "all_images = os.listdir(source_directory)\n",
    "\n",
    "# Determinar el número de imágenes para el conjunto de entrenamiento (80%)\n",
    "num_train_images = int(len(all_images) * 0.8)\n",
    "\n",
    "# Escoger aleatoriamente las imágenes para el conjunto de entrenamiento\n",
    "train_images = random.sample(all_images, num_train_images)\n",
    "\n",
    "# Mover las imágenes seleccionadas al directorio de entrenamiento\n",
    "for image in train_images:\n",
    "    source_path = os.path.join(source_directory, image)\n",
    "    destination_path = os.path.join(train_directory, image)\n",
    "    shutil.move(source_path, destination_path)\n",
    "\n",
    "# Mover las imágenes restantes al directorio de prueba\n",
    "for image in all_images:\n",
    "    if image not in train_images:\n",
    "        source_path = os.path.join(source_directory, image)\n",
    "        destination_path = os.path.join(test_directory, image)\n",
    "        shutil.move(source_path, destination_path)\n",
    "\n",
    "print(\"¡Proceso completado!\")\n"
   ]
  }
 ],
 "metadata": {
  "kernelspec": {
   "display_name": "bruno_vision_1",
   "language": "python",
   "name": "python3"
  },
  "language_info": {
   "codemirror_mode": {
    "name": "ipython",
    "version": 3
   },
   "file_extension": ".py",
   "mimetype": "text/x-python",
   "name": "python",
   "nbconvert_exporter": "python",
   "pygments_lexer": "ipython3",
   "version": "3.11.4"
  }
 },
 "nbformat": 4,
 "nbformat_minor": 2
}
